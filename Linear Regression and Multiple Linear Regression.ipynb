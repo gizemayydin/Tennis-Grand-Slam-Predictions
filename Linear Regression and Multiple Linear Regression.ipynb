{
 "cells": [
  {
   "cell_type": "markdown",
   "metadata": {},
   "source": [
    "# Linear Regression and Multiple Linear Regression"
   ]
  },
  {
   "cell_type": "markdown",
   "metadata": {},
   "source": [
    "## Linear Regression"
   ]
  },
  {
   "cell_type": "code",
   "execution_count": 15,
   "metadata": {
    "collapsed": true
   },
   "outputs": [],
   "source": [
    "import pandas as pd\n",
    "import matplotlib.pyplot as plt\n",
    "import numpy as np\n",
    "%matplotlib inline"
   ]
  },
  {
   "cell_type": "markdown",
   "metadata": {},
   "source": [
    "Let's look at our data"
   ]
  },
  {
   "cell_type": "code",
   "execution_count": 16,
   "metadata": {
    "collapsed": false
   },
   "outputs": [
    {
     "data": {
      "text/html": [
       "<div>\n",
       "<table border=\"1\" class=\"dataframe\">\n",
       "  <thead>\n",
       "    <tr style=\"text-align: right;\">\n",
       "      <th></th>\n",
       "      <th>Player</th>\n",
       "      <th>Round</th>\n",
       "      <th>Result</th>\n",
       "      <th>FSP</th>\n",
       "      <th>FSW</th>\n",
       "      <th>SSP</th>\n",
       "      <th>SSW</th>\n",
       "      <th>ACE</th>\n",
       "      <th>DBF</th>\n",
       "      <th>WNR</th>\n",
       "      <th>UFE</th>\n",
       "      <th>BPC</th>\n",
       "      <th>BPW</th>\n",
       "      <th>TPW</th>\n",
       "    </tr>\n",
       "  </thead>\n",
       "  <tbody>\n",
       "    <tr>\n",
       "      <th>0</th>\n",
       "      <td>Lukas Lacko</td>\n",
       "      <td>1</td>\n",
       "      <td>0</td>\n",
       "      <td>61</td>\n",
       "      <td>35</td>\n",
       "      <td>39</td>\n",
       "      <td>18</td>\n",
       "      <td>5</td>\n",
       "      <td>1.0</td>\n",
       "      <td>17</td>\n",
       "      <td>29</td>\n",
       "      <td>1</td>\n",
       "      <td>3</td>\n",
       "      <td>70</td>\n",
       "    </tr>\n",
       "    <tr>\n",
       "      <th>1</th>\n",
       "      <td>Leonardo Mayer</td>\n",
       "      <td>1</td>\n",
       "      <td>1</td>\n",
       "      <td>61</td>\n",
       "      <td>31</td>\n",
       "      <td>39</td>\n",
       "      <td>13</td>\n",
       "      <td>13</td>\n",
       "      <td>1.0</td>\n",
       "      <td>13</td>\n",
       "      <td>1</td>\n",
       "      <td>7</td>\n",
       "      <td>14</td>\n",
       "      <td>80</td>\n",
       "    </tr>\n",
       "    <tr>\n",
       "      <th>2</th>\n",
       "      <td>Marcos Baghdatis</td>\n",
       "      <td>1</td>\n",
       "      <td>0</td>\n",
       "      <td>52</td>\n",
       "      <td>53</td>\n",
       "      <td>48</td>\n",
       "      <td>20</td>\n",
       "      <td>8</td>\n",
       "      <td>4.0</td>\n",
       "      <td>37</td>\n",
       "      <td>50</td>\n",
       "      <td>1</td>\n",
       "      <td>9</td>\n",
       "      <td>106</td>\n",
       "    </tr>\n",
       "    <tr>\n",
       "      <th>3</th>\n",
       "      <td>Dmitry Tursunov</td>\n",
       "      <td>1</td>\n",
       "      <td>1</td>\n",
       "      <td>53</td>\n",
       "      <td>39</td>\n",
       "      <td>47</td>\n",
       "      <td>24</td>\n",
       "      <td>8</td>\n",
       "      <td>6.0</td>\n",
       "      <td>8</td>\n",
       "      <td>6</td>\n",
       "      <td>6</td>\n",
       "      <td>9</td>\n",
       "      <td>104</td>\n",
       "    </tr>\n",
       "    <tr>\n",
       "      <th>4</th>\n",
       "      <td>Juan Monaco</td>\n",
       "      <td>1</td>\n",
       "      <td>0</td>\n",
       "      <td>76</td>\n",
       "      <td>63</td>\n",
       "      <td>24</td>\n",
       "      <td>12</td>\n",
       "      <td>0</td>\n",
       "      <td>4.0</td>\n",
       "      <td>16</td>\n",
       "      <td>35</td>\n",
       "      <td>3</td>\n",
       "      <td>12</td>\n",
       "      <td>128</td>\n",
       "    </tr>\n",
       "    <tr>\n",
       "      <th>5</th>\n",
       "      <td>Santiago Giraldo</td>\n",
       "      <td>1</td>\n",
       "      <td>0</td>\n",
       "      <td>65</td>\n",
       "      <td>51</td>\n",
       "      <td>35</td>\n",
       "      <td>22</td>\n",
       "      <td>9</td>\n",
       "      <td>3.0</td>\n",
       "      <td>35</td>\n",
       "      <td>41</td>\n",
       "      <td>2</td>\n",
       "      <td>7</td>\n",
       "      <td>108</td>\n",
       "    </tr>\n",
       "    <tr>\n",
       "      <th>6</th>\n",
       "      <td>Dudi Sela</td>\n",
       "      <td>1</td>\n",
       "      <td>0</td>\n",
       "      <td>68</td>\n",
       "      <td>73</td>\n",
       "      <td>32</td>\n",
       "      <td>24</td>\n",
       "      <td>5</td>\n",
       "      <td>3.0</td>\n",
       "      <td>41</td>\n",
       "      <td>50</td>\n",
       "      <td>9</td>\n",
       "      <td>17</td>\n",
       "      <td>173</td>\n",
       "    </tr>\n",
       "    <tr>\n",
       "      <th>7</th>\n",
       "      <td>Fabio Fognini</td>\n",
       "      <td>1</td>\n",
       "      <td>1</td>\n",
       "      <td>47</td>\n",
       "      <td>18</td>\n",
       "      <td>53</td>\n",
       "      <td>15</td>\n",
       "      <td>3</td>\n",
       "      <td>4.0</td>\n",
       "      <td>21</td>\n",
       "      <td>31</td>\n",
       "      <td>6</td>\n",
       "      <td>20</td>\n",
       "      <td>78</td>\n",
       "    </tr>\n",
       "    <tr>\n",
       "      <th>8</th>\n",
       "      <td>David Guez</td>\n",
       "      <td>1</td>\n",
       "      <td>0</td>\n",
       "      <td>64</td>\n",
       "      <td>26</td>\n",
       "      <td>36</td>\n",
       "      <td>12</td>\n",
       "      <td>3</td>\n",
       "      <td>NaN</td>\n",
       "      <td>20</td>\n",
       "      <td>39</td>\n",
       "      <td>3</td>\n",
       "      <td>7</td>\n",
       "      <td>67</td>\n",
       "    </tr>\n",
       "    <tr>\n",
       "      <th>9</th>\n",
       "      <td>Nikolay Davydenko</td>\n",
       "      <td>1</td>\n",
       "      <td>1</td>\n",
       "      <td>77</td>\n",
       "      <td>76</td>\n",
       "      <td>23</td>\n",
       "      <td>11</td>\n",
       "      <td>6</td>\n",
       "      <td>4.0</td>\n",
       "      <td>6</td>\n",
       "      <td>4</td>\n",
       "      <td>7</td>\n",
       "      <td>24</td>\n",
       "      <td>162</td>\n",
       "    </tr>\n",
       "  </tbody>\n",
       "</table>\n",
       "</div>"
      ],
      "text/plain": [
       "              Player  Round  Result  FSP  FSW  SSP  SSW  ACE  DBF  WNR  UFE  \\\n",
       "0        Lukas Lacko      1       0   61   35   39   18    5  1.0   17   29   \n",
       "1     Leonardo Mayer      1       1   61   31   39   13   13  1.0   13    1   \n",
       "2   Marcos Baghdatis      1       0   52   53   48   20    8  4.0   37   50   \n",
       "3    Dmitry Tursunov      1       1   53   39   47   24    8  6.0    8    6   \n",
       "4        Juan Monaco      1       0   76   63   24   12    0  4.0   16   35   \n",
       "5   Santiago Giraldo      1       0   65   51   35   22    9  3.0   35   41   \n",
       "6          Dudi Sela      1       0   68   73   32   24    5  3.0   41   50   \n",
       "7      Fabio Fognini      1       1   47   18   53   15    3  4.0   21   31   \n",
       "8         David Guez      1       0   64   26   36   12    3  NaN   20   39   \n",
       "9  Nikolay Davydenko      1       1   77   76   23   11    6  4.0    6    4   \n",
       "\n",
       "   BPC  BPW  TPW  \n",
       "0    1    3   70  \n",
       "1    7   14   80  \n",
       "2    1    9  106  \n",
       "3    6    9  104  \n",
       "4    3   12  128  \n",
       "5    2    7  108  \n",
       "6    9   17  173  \n",
       "7    6   20   78  \n",
       "8    3    7   67  \n",
       "9    7   24  162  "
      ]
     },
     "execution_count": 16,
     "metadata": {},
     "output_type": "execute_result"
    }
   ],
   "source": [
    "import pandas as pd\n",
    "import matplotlib.pyplot as plt\n",
    "import numpy as np\n",
    "%matplotlib inline\n",
    "data = pd.read_csv(\"deneme.csv\")\n",
    "data = data.drop([\"Player2\", \"FSP.2\", \"FSW.2\", \"SSP.2\", \"SSW.2\", \"ACE.2\",\"DBF.2\", \"WNR.2\", \"UFE.2\",\"BPC.2\",\"BPW.2\",\"TPW.2\" ,\n",
    "                  \"FNL1\", \"FNL2\",\"NPA.1\",\"NPW.1\",\"ST1.1\",\"ST2.1\",\"ST3.1\",\"ST4.1\",\"ST5.1\",\"NPA.2\",\"NPW.2\",\"ST1.2\",\"ST2.2\",\"ST3.2\",\n",
    "                  \"ST4.2\",\"ST5.2\"], axis=1)\n",
    "data.rename(columns={\"Player1\":\"Player\", \"FSP.1\":\"FSP\" , \"FSW.1\" : \"FSW\" , \"SSP.1\" : \"SSP\" , \"SSW.1\" : \"SSW\",\"ACE.1\" : \"ACE\", \n",
    "                     \"DBF.1\" : \"DBF\", \"WNR.1\":\"WNR\", \"UFE.1\" : \"UFE\", \"BPC.1\" : \"BPC\" , \"BPW.1\" : \"BPW\",\"TPW.1\" : \"TPW\" },\n",
    "            inplace=True)\n",
    "data.head(10)\n"
   ]
  },
  {
   "cell_type": "markdown",
   "metadata": {},
   "source": [
    "Some scatterplots as subplots:"
   ]
  },
  {
   "cell_type": "code",
   "execution_count": 17,
   "metadata": {
    "collapsed": false
   },
   "outputs": [
    {
     "data": {
      "text/plain": [
       "<matplotlib.axes._subplots.AxesSubplot at 0x19f88780cc0>"
      ]
     },
     "execution_count": 17,
     "metadata": {},
     "output_type": "execute_result"
    },
    {
     "data": {
      "image/png": "[encoded data removed]",
      "text/plain": [
       "<matplotlib.figure.Figure at 0x19f856fdcc0>"
      ]
     },
     "metadata": {},
     "output_type": "display_data"
    }
   ],
   "source": [
    "fig, axs = plt.subplots(1, 10, sharey=True)\n",
    "\n",
    "data.plot(kind='scatter', x='Round',y='Result',ax=axs[0],figsize=(16,8))\n",
    "data.plot(kind='scatter', x='FSP',y='Result',ax=axs[1])\n",
    "data.plot(kind='scatter', x='FSW',y='Result',ax=axs[2])\n",
    "data.plot(kind='scatter', x='SSP',y='Result',ax=axs[3])\n",
    "data.plot(kind='scatter', x='SSW',y='Result',ax=axs[4])\n",
    "data.plot(kind='scatter', x='ACE',y='Result',ax=axs[5])\n",
    "data.plot(kind='scatter', x='DBF',y='Result',ax=axs[6])\n",
    "data.plot(kind='scatter', x='WNR',y='Result',ax=axs[7])\n",
    "data.plot(kind='scatter', x='UFE',y='Result',ax=axs[8])\n",
    "data.plot(kind='scatter', x='TPW',y='Result',ax=axs[9])\n"
   ]
  },
  {
   "cell_type": "markdown",
   "metadata": {},
   "source": [
    "Our scatterplots are not very useful, since the result can be either 1 and 0.\n",
    "Maybe \"Break Points Created\" can be used since it seems like winning player has created more break points compared to losing player."
   ]
  },
  {
   "cell_type": "markdown",
   "metadata": {},
   "source": [
    "Let's create a fitted line y = a + bx and see the coefficients"
   ]
  },
  {
   "cell_type": "code",
   "execution_count": 18,
   "metadata": {
    "collapsed": false
   },
   "outputs": [
    {
     "data": {
      "text/plain": [
       "Intercept    0.037116\n",
       "BPC          0.128324\n",
       "dtype: float64"
      ]
     },
     "execution_count": 18,
     "metadata": {},
     "output_type": "execute_result"
    }
   ],
   "source": [
    "import statsmodels.formula.api as smf\n",
    "lm = smf.ols(formula='Result ~ BPC', data=data).fit()\n",
    "\n",
    "lm.params"
   ]
  },
  {
   "cell_type": "markdown",
   "metadata": {},
   "source": [
    "So our line is y = 0.128324x + 0.037116"
   ]
  },
  {
   "cell_type": "markdown",
   "metadata": {},
   "source": [
    "Let's make a dataframe for the smallest and largest observed values of Break Points Created"
   ]
  },
  {
   "cell_type": "code",
   "execution_count": 19,
   "metadata": {
    "collapsed": false
   },
   "outputs": [
    {
     "data": {
      "text/html": [
       "<div>\n",
       "<table border=\"1\" class=\"dataframe\">\n",
       "  <thead>\n",
       "    <tr style=\"text-align: right;\">\n",
       "      <th></th>\n",
       "      <th>BPC</th>\n",
       "    </tr>\n",
       "  </thead>\n",
       "  <tbody>\n",
       "    <tr>\n",
       "      <th>0</th>\n",
       "      <td>0</td>\n",
       "    </tr>\n",
       "    <tr>\n",
       "      <th>1</th>\n",
       "      <td>11</td>\n",
       "    </tr>\n",
       "  </tbody>\n",
       "</table>\n",
       "</div>"
      ],
      "text/plain": [
       "   BPC\n",
       "0    0\n",
       "1   11"
      ]
     },
     "execution_count": 19,
     "metadata": {},
     "output_type": "execute_result"
    }
   ],
   "source": [
    "X_new = pd.DataFrame({'BPC': [data.BPC.min(), data.BPC.max()]})\n",
    "X_new.head()"
   ]
  },
  {
   "cell_type": "markdown",
   "metadata": {},
   "source": [
    "So the minimum number of break points created is 0 and the maximum number is 11, let's make predictions about it.\n"
   ]
  },
  {
   "cell_type": "code",
   "execution_count": 20,
   "metadata": {
    "collapsed": false
   },
   "outputs": [
    {
     "data": {
      "text/plain": [
       "array([ 0.0371164 ,  1.44868224])"
      ]
     },
     "execution_count": 20,
     "metadata": {},
     "output_type": "execute_result"
    }
   ],
   "source": [
    "preds = lm.predict(X_new)\n",
    "preds"
   ]
  },
  {
   "cell_type": "markdown",
   "metadata": {},
   "source": [
    "The least squared line:"
   ]
  },
  {
   "cell_type": "code",
   "execution_count": 21,
   "metadata": {
    "collapsed": false
   },
   "outputs": [
    {
     "data": {
      "text/plain": [
       "[<matplotlib.lines.Line2D at 0x19f86bb7208>]"
      ]
     },
     "execution_count": 21,
     "metadata": {},
     "output_type": "execute_result"
    },
    {
     "data": {
      "image/png": "[encoded data removed]",
      "text/plain": [
       "<matplotlib.figure.Figure at 0x19f86bdcd68>"
      ]
     },
     "metadata": {},
     "output_type": "display_data"
    }
   ],
   "source": [
    "data.plot(kind='scatter', x='BPC', y='Result')\n",
    "plt.plot(X_new, preds, c='red', linewidth=3)"
   ]
  },
  {
   "cell_type": "markdown",
   "metadata": {},
   "source": [
    "The confidence interval:"
   ]
  },
  {
   "cell_type": "code",
   "execution_count": 22,
   "metadata": {
    "collapsed": false
   },
   "outputs": [
    {
     "data": {
      "text/html": [
       "<div>\n",
       "<table border=\"1\" class=\"dataframe\">\n",
       "  <thead>\n",
       "    <tr style=\"text-align: right;\">\n",
       "      <th></th>\n",
       "      <th>0</th>\n",
       "      <th>1</th>\n",
       "    </tr>\n",
       "  </thead>\n",
       "  <tbody>\n",
       "    <tr>\n",
       "      <th>Intercept</th>\n",
       "      <td>-0.049556</td>\n",
       "      <td>0.123788</td>\n",
       "    </tr>\n",
       "    <tr>\n",
       "      <th>BPC</th>\n",
       "      <td>0.108422</td>\n",
       "      <td>0.148227</td>\n",
       "    </tr>\n",
       "  </tbody>\n",
       "</table>\n",
       "</div>"
      ],
      "text/plain": [
       "                  0         1\n",
       "Intercept -0.049556  0.123788\n",
       "BPC        0.108422  0.148227"
      ]
     },
     "execution_count": 22,
     "metadata": {},
     "output_type": "execute_result"
    }
   ],
   "source": [
    "lm.conf_int()"
   ]
  },
  {
   "cell_type": "raw",
   "metadata": {},
   "source": [
    "The confidence interval of Break Points Created does not include 0, so we reject H0 and accept H1.\n",
    "H0: There is no relation between BPC and Result\n",
    "H1: There is a relation between BPC and Result"
   ]
  },
  {
   "cell_type": "markdown",
   "metadata": {},
   "source": [
    "Alternatively, we can check the p-value"
   ]
  },
  {
   "cell_type": "code",
   "execution_count": 23,
   "metadata": {
    "collapsed": false
   },
   "outputs": [
    {
     "data": {
      "text/plain": [
       "Intercept    3.998009e-01\n",
       "BPC          7.622144e-29\n",
       "dtype: float64"
      ]
     },
     "execution_count": 23,
     "metadata": {},
     "output_type": "execute_result"
    }
   ],
   "source": [
    "lm.pvalues"
   ]
  },
  {
   "cell_type": "markdown",
   "metadata": {},
   "source": [
    "Supportingly, the p-value of BPC is less than 0.05, so we can say that BPC has a relation between Result with %95 confidence"
   ]
  },
  {
   "cell_type": "code",
   "execution_count": 24,
   "metadata": {
    "collapsed": false
   },
   "outputs": [
    {
     "data": {
      "text/plain": [
       "0.39210162237088886"
      ]
     },
     "execution_count": 24,
     "metadata": {},
     "output_type": "execute_result"
    }
   ],
   "source": [
    "lm.rsquared"
   ]
  },
  {
   "cell_type": "markdown",
   "metadata": {},
   "source": [
    "Our rsquared value is very very low, so the regression line is not a good fit for our model, let's try multiple regression"
   ]
  },
  {
   "cell_type": "markdown",
   "metadata": {},
   "source": [
    "## Multiple Linear Regression"
   ]
  },
  {
   "cell_type": "markdown",
   "metadata": {},
   "source": [
    "First, let's try to include all of the statistics of the player"
   ]
  },
  {
   "cell_type": "code",
   "execution_count": 25,
   "metadata": {
    "collapsed": false,
    "scrolled": true
   },
   "outputs": [
    {
     "data": {
      "text/plain": [
       "Intercept    0.000022\n",
       "FSP          0.005698\n",
       "FSW          0.003548\n",
       "SSP         -0.003473\n",
       "SSW          0.014097\n",
       "ACE          0.001570\n",
       "WNR          0.014973\n",
       "UFE         -0.011098\n",
       "BPC          0.144904\n",
       "BPW          0.006208\n",
       "TPW         -0.008232\n",
       "dtype: float64"
      ]
     },
     "execution_count": 25,
     "metadata": {},
     "output_type": "execute_result"
    }
   ],
   "source": [
    "lm = smf.ols(formula='Result ~ FSP + FSW + SSP + SSW + ACE  + WNR + UFE +BPC + BPW + TPW', data=data).fit()\n",
    "lm.params"
   ]
  },
  {
   "cell_type": "markdown",
   "metadata": {},
   "source": [
    "Our Multiple Regression is this:\n",
    "y = 0.000022 + 0.005698*FSP + 0.003548*FSW - 0.003473*SSP + 0.014097*SSW + 0.001570*ACE + 0.014973*WNR - 0.011098*UFE + 0.144904*BPC + 0.006208*BPW - 0.008232*TPW"
   ]
  },
  {
   "cell_type": "code",
   "execution_count": 26,
   "metadata": {
    "collapsed": false,
    "scrolled": true
   },
   "outputs": [
    {
     "data": {
      "text/html": [
       "<table class=\"simpletable\">\n",
       "<caption>OLS Regression Results</caption>\n",
       "<tr>\n",
       "  <th>Dep. Variable:</th>         <td>Result</td>      <th>  R-squared:         </th> <td>   0.560</td>\n",
       "</tr>\n",
       "<tr>\n",
       "  <th>Model:</th>                   <td>OLS</td>       <th>  Adj. R-squared:    </th> <td>   0.544</td>\n",
       "</tr>\n",
       "<tr>\n",
       "  <th>Method:</th>             <td>Least Squares</td>  <th>  F-statistic:       </th> <td>   34.23</td>\n",
       "</tr>\n",
       "<tr>\n",
       "  <th>Date:</th>             <td>Wed, 10 May 2017</td> <th>  Prob (F-statistic):</th> <td>1.71e-38</td>\n",
       "</tr>\n",
       "<tr>\n",
       "  <th>Time:</th>                 <td>21:08:42</td>     <th>  Log-Likelihood:    </th> <td> -79.442</td>\n",
       "</tr>\n",
       "<tr>\n",
       "  <th>No. Observations:</th>      <td>   252</td>      <th>  AIC:               </th> <td>   178.9</td>\n",
       "</tr>\n",
       "<tr>\n",
       "  <th>Df Residuals:</th>          <td>   242</td>      <th>  BIC:               </th> <td>   214.2</td>\n",
       "</tr>\n",
       "<tr>\n",
       "  <th>Df Model:</th>              <td>     9</td>      <th>                     </th>     <td> </td>   \n",
       "</tr>\n",
       "<tr>\n",
       "  <th>Covariance Type:</th>      <td>nonrobust</td>    <th>                     </th>     <td> </td>   \n",
       "</tr>\n",
       "</table>\n",
       "<table class=\"simpletable\">\n",
       "<tr>\n",
       "      <td></td>         <th>coef</th>     <th>std err</th>      <th>t</th>      <th>P>|t|</th> <th>[95.0% Conf. Int.]</th> \n",
       "</tr>\n",
       "<tr>\n",
       "  <th>Intercept</th> <td> 2.225e-05</td> <td> 1.93e-05</td> <td>    1.153</td> <td> 0.250</td> <td>-1.57e-05  6.02e-05</td>\n",
       "</tr>\n",
       "<tr>\n",
       "  <th>FSP</th>       <td>    0.0057</td> <td>    0.002</td> <td>    2.598</td> <td> 0.010</td> <td>    0.001     0.010</td>\n",
       "</tr>\n",
       "<tr>\n",
       "  <th>FSW</th>       <td>    0.0035</td> <td>    0.006</td> <td>    0.592</td> <td> 0.555</td> <td>   -0.008     0.015</td>\n",
       "</tr>\n",
       "<tr>\n",
       "  <th>SSP</th>       <td>   -0.0035</td> <td>    0.003</td> <td>   -1.039</td> <td> 0.300</td> <td>   -0.010     0.003</td>\n",
       "</tr>\n",
       "<tr>\n",
       "  <th>SSW</th>       <td>    0.0141</td> <td>    0.007</td> <td>    1.989</td> <td> 0.048</td> <td>    0.000     0.028</td>\n",
       "</tr>\n",
       "<tr>\n",
       "  <th>ACE</th>       <td>    0.0016</td> <td>    0.005</td> <td>    0.331</td> <td> 0.741</td> <td>   -0.008     0.011</td>\n",
       "</tr>\n",
       "<tr>\n",
       "  <th>WNR</th>       <td>    0.0150</td> <td>    0.002</td> <td>    6.452</td> <td> 0.000</td> <td>    0.010     0.020</td>\n",
       "</tr>\n",
       "<tr>\n",
       "  <th>UFE</th>       <td>   -0.0111</td> <td>    0.002</td> <td>   -6.382</td> <td> 0.000</td> <td>   -0.015    -0.008</td>\n",
       "</tr>\n",
       "<tr>\n",
       "  <th>BPC</th>       <td>    0.1449</td> <td>    0.017</td> <td>    8.762</td> <td> 0.000</td> <td>    0.112     0.177</td>\n",
       "</tr>\n",
       "<tr>\n",
       "  <th>BPW</th>       <td>    0.0062</td> <td>    0.008</td> <td>    0.764</td> <td> 0.445</td> <td>   -0.010     0.022</td>\n",
       "</tr>\n",
       "<tr>\n",
       "  <th>TPW</th>       <td>   -0.0082</td> <td>    0.004</td> <td>   -2.125</td> <td> 0.035</td> <td>   -0.016    -0.001</td>\n",
       "</tr>\n",
       "</table>\n",
       "<table class=\"simpletable\">\n",
       "<tr>\n",
       "  <th>Omnibus:</th>       <td> 0.260</td> <th>  Durbin-Watson:     </th> <td>   2.074</td>\n",
       "</tr>\n",
       "<tr>\n",
       "  <th>Prob(Omnibus):</th> <td> 0.878</td> <th>  Jarque-Bera (JB):  </th> <td>   0.405</td>\n",
       "</tr>\n",
       "<tr>\n",
       "  <th>Skew:</th>          <td>-0.016</td> <th>  Prob(JB):          </th> <td>   0.817</td>\n",
       "</tr>\n",
       "<tr>\n",
       "  <th>Kurtosis:</th>      <td> 2.806</td> <th>  Cond. No.          </th> <td>1.39e+18</td>\n",
       "</tr>\n",
       "</table>"
      ],
      "text/plain": [
       "<class 'statsmodels.iolib.summary.Summary'>\n",
       "\"\"\"\n",
       "                            OLS Regression Results                            \n",
       "==============================================================================\n",
       "Dep. Variable:                 Result   R-squared:                       0.560\n",
       "Model:                            OLS   Adj. R-squared:                  0.544\n",
       "Method:                 Least Squares   F-statistic:                     34.23\n",
       "Date:                Wed, 10 May 2017   Prob (F-statistic):           1.71e-38\n",
       "Time:                        21:08:42   Log-Likelihood:                -79.442\n",
       "No. Observations:                 252   AIC:                             178.9\n",
       "Df Residuals:                     242   BIC:                             214.2\n",
       "Df Model:                           9                                         \n",
       "Covariance Type:            nonrobust                                         \n",
       "==============================================================================\n",
       "                 coef    std err          t      P>|t|      [95.0% Conf. Int.]\n",
       "------------------------------------------------------------------------------\n",
       "Intercept   2.225e-05   1.93e-05      1.153      0.250     -1.57e-05  6.02e-05\n",
       "FSP            0.0057      0.002      2.598      0.010         0.001     0.010\n",
       "FSW            0.0035      0.006      0.592      0.555        -0.008     0.015\n",
       "SSP           -0.0035      0.003     -1.039      0.300        -0.010     0.003\n",
       "SSW            0.0141      0.007      1.989      0.048         0.000     0.028\n",
       "ACE            0.0016      0.005      0.331      0.741        -0.008     0.011\n",
       "WNR            0.0150      0.002      6.452      0.000         0.010     0.020\n",
       "UFE           -0.0111      0.002     -6.382      0.000        -0.015    -0.008\n",
       "BPC            0.1449      0.017      8.762      0.000         0.112     0.177\n",
       "BPW            0.0062      0.008      0.764      0.445        -0.010     0.022\n",
       "TPW           -0.0082      0.004     -2.125      0.035        -0.016    -0.001\n",
       "==============================================================================\n",
       "Omnibus:                        0.260   Durbin-Watson:                   2.074\n",
       "Prob(Omnibus):                  0.878   Jarque-Bera (JB):                0.405\n",
       "Skew:                          -0.016   Prob(JB):                        0.817\n",
       "Kurtosis:                       2.806   Cond. No.                     1.39e+18\n",
       "==============================================================================\n",
       "\n",
       "Warnings:\n",
       "[1] Standard Errors assume that the covariance matrix of the errors is correctly specified.\n",
       "[2] The smallest eigenvalue is 3.14e-30. This might indicate that there are\n",
       "strong multicollinearity problems or that the design matrix is singular.\n",
       "\"\"\""
      ]
     },
     "execution_count": 26,
     "metadata": {},
     "output_type": "execute_result"
    }
   ],
   "source": [
    "lm.summary()"
   ]
  },
  {
   "cell_type": "markdown",
   "metadata": {},
   "source": [
    "Our R-squared is very low, this model did not work out very well for our data."
   ]
  }
 ],
 "metadata": {
  "kernelspec": {
   "display_name": "Python 3",
   "language": "python",
   "name": "python3"
  },
  "language_info": {
   "codemirror_mode": {
    "name": "ipython",
    "version": 3
   },
   "file_extension": ".py",
   "mimetype": "text/x-python",
   "name": "python",
   "nbconvert_exporter": "python",
   "pygments_lexer": "ipython3",
   "version": "3.6.0"
  }
 },
 "nbformat": 4,
 "nbformat_minor": 2
}
