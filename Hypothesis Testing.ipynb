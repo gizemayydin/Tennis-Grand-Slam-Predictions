{
 "cells": [
  {
   "cell_type": "markdown",
   "metadata": {},
   "source": [
    "# Hypothesis Testing"
   ]
  },
  {
   "cell_type": "markdown",
   "metadata": {},
   "source": [
    "First, we should read our data. Since we will do some mathematical operations, we excluded the Player column which is formed of strings this time."
   ]
  },
  {
   "cell_type": "code",
   "execution_count": 2,
   "metadata": {
    "collapsed": false
   },
   "outputs": [
    {
     "data": {
      "text/html": [
       "<div>\n",
       "<table border=\"1\" class=\"dataframe\">\n",
       "  <thead>\n",
       "    <tr style=\"text-align: right;\">\n",
       "      <th></th>\n",
       "      <th>Round</th>\n",
       "      <th>Result</th>\n",
       "      <th>FSP</th>\n",
       "      <th>FSW</th>\n",
       "      <th>SSP</th>\n",
       "      <th>SSW</th>\n",
       "      <th>ACE</th>\n",
       "      <th>DBF</th>\n",
       "      <th>WNR</th>\n",
       "      <th>UFE</th>\n",
       "      <th>BPC</th>\n",
       "      <th>BPW</th>\n",
       "      <th>TPW</th>\n",
       "    </tr>\n",
       "  </thead>\n",
       "  <tbody>\n",
       "    <tr>\n",
       "      <th>0</th>\n",
       "      <td>1</td>\n",
       "      <td>0</td>\n",
       "      <td>61</td>\n",
       "      <td>35</td>\n",
       "      <td>39</td>\n",
       "      <td>18</td>\n",
       "      <td>5</td>\n",
       "      <td>1.0</td>\n",
       "      <td>17</td>\n",
       "      <td>29</td>\n",
       "      <td>1</td>\n",
       "      <td>3</td>\n",
       "      <td>70</td>\n",
       "    </tr>\n",
       "    <tr>\n",
       "      <th>1</th>\n",
       "      <td>1</td>\n",
       "      <td>1</td>\n",
       "      <td>61</td>\n",
       "      <td>31</td>\n",
       "      <td>39</td>\n",
       "      <td>13</td>\n",
       "      <td>13</td>\n",
       "      <td>1.0</td>\n",
       "      <td>13</td>\n",
       "      <td>1</td>\n",
       "      <td>7</td>\n",
       "      <td>14</td>\n",
       "      <td>80</td>\n",
       "    </tr>\n",
       "    <tr>\n",
       "      <th>2</th>\n",
       "      <td>1</td>\n",
       "      <td>0</td>\n",
       "      <td>52</td>\n",
       "      <td>53</td>\n",
       "      <td>48</td>\n",
       "      <td>20</td>\n",
       "      <td>8</td>\n",
       "      <td>4.0</td>\n",
       "      <td>37</td>\n",
       "      <td>50</td>\n",
       "      <td>1</td>\n",
       "      <td>9</td>\n",
       "      <td>106</td>\n",
       "    </tr>\n",
       "    <tr>\n",
       "      <th>3</th>\n",
       "      <td>1</td>\n",
       "      <td>1</td>\n",
       "      <td>53</td>\n",
       "      <td>39</td>\n",
       "      <td>47</td>\n",
       "      <td>24</td>\n",
       "      <td>8</td>\n",
       "      <td>6.0</td>\n",
       "      <td>8</td>\n",
       "      <td>6</td>\n",
       "      <td>6</td>\n",
       "      <td>9</td>\n",
       "      <td>104</td>\n",
       "    </tr>\n",
       "    <tr>\n",
       "      <th>4</th>\n",
       "      <td>1</td>\n",
       "      <td>0</td>\n",
       "      <td>76</td>\n",
       "      <td>63</td>\n",
       "      <td>24</td>\n",
       "      <td>12</td>\n",
       "      <td>0</td>\n",
       "      <td>4.0</td>\n",
       "      <td>16</td>\n",
       "      <td>35</td>\n",
       "      <td>3</td>\n",
       "      <td>12</td>\n",
       "      <td>128</td>\n",
       "    </tr>\n",
       "    <tr>\n",
       "      <th>5</th>\n",
       "      <td>1</td>\n",
       "      <td>0</td>\n",
       "      <td>65</td>\n",
       "      <td>51</td>\n",
       "      <td>35</td>\n",
       "      <td>22</td>\n",
       "      <td>9</td>\n",
       "      <td>3.0</td>\n",
       "      <td>35</td>\n",
       "      <td>41</td>\n",
       "      <td>2</td>\n",
       "      <td>7</td>\n",
       "      <td>108</td>\n",
       "    </tr>\n",
       "    <tr>\n",
       "      <th>6</th>\n",
       "      <td>1</td>\n",
       "      <td>0</td>\n",
       "      <td>68</td>\n",
       "      <td>73</td>\n",
       "      <td>32</td>\n",
       "      <td>24</td>\n",
       "      <td>5</td>\n",
       "      <td>3.0</td>\n",
       "      <td>41</td>\n",
       "      <td>50</td>\n",
       "      <td>9</td>\n",
       "      <td>17</td>\n",
       "      <td>173</td>\n",
       "    </tr>\n",
       "    <tr>\n",
       "      <th>7</th>\n",
       "      <td>1</td>\n",
       "      <td>1</td>\n",
       "      <td>47</td>\n",
       "      <td>18</td>\n",
       "      <td>53</td>\n",
       "      <td>15</td>\n",
       "      <td>3</td>\n",
       "      <td>4.0</td>\n",
       "      <td>21</td>\n",
       "      <td>31</td>\n",
       "      <td>6</td>\n",
       "      <td>20</td>\n",
       "      <td>78</td>\n",
       "    </tr>\n",
       "    <tr>\n",
       "      <th>8</th>\n",
       "      <td>1</td>\n",
       "      <td>0</td>\n",
       "      <td>64</td>\n",
       "      <td>26</td>\n",
       "      <td>36</td>\n",
       "      <td>12</td>\n",
       "      <td>3</td>\n",
       "      <td>4.0</td>\n",
       "      <td>20</td>\n",
       "      <td>39</td>\n",
       "      <td>3</td>\n",
       "      <td>7</td>\n",
       "      <td>67</td>\n",
       "    </tr>\n",
       "    <tr>\n",
       "      <th>9</th>\n",
       "      <td>1</td>\n",
       "      <td>1</td>\n",
       "      <td>77</td>\n",
       "      <td>76</td>\n",
       "      <td>23</td>\n",
       "      <td>11</td>\n",
       "      <td>6</td>\n",
       "      <td>NaN</td>\n",
       "      <td>6</td>\n",
       "      <td>4</td>\n",
       "      <td>7</td>\n",
       "      <td>24</td>\n",
       "      <td>162</td>\n",
       "    </tr>\n",
       "  </tbody>\n",
       "</table>\n",
       "</div>"
      ],
      "text/plain": [
       "   Round  Result  FSP  FSW  SSP  SSW  ACE  DBF  WNR  UFE  BPC  BPW  TPW\n",
       "0      1       0   61   35   39   18    5  1.0   17   29    1    3   70\n",
       "1      1       1   61   31   39   13   13  1.0   13    1    7   14   80\n",
       "2      1       0   52   53   48   20    8  4.0   37   50    1    9  106\n",
       "3      1       1   53   39   47   24    8  6.0    8    6    6    9  104\n",
       "4      1       0   76   63   24   12    0  4.0   16   35    3   12  128\n",
       "5      1       0   65   51   35   22    9  3.0   35   41    2    7  108\n",
       "6      1       0   68   73   32   24    5  3.0   41   50    9   17  173\n",
       "7      1       1   47   18   53   15    3  4.0   21   31    6   20   78\n",
       "8      1       0   64   26   36   12    3  4.0   20   39    3    7   67\n",
       "9      1       1   77   76   23   11    6  NaN    6    4    7   24  162"
      ]
     },
     "execution_count": 2,
     "metadata": {},
     "output_type": "execute_result"
    }
   ],
   "source": [
    "import pandas as pd\n",
    "data = pd.read_csv(\"deneme.csv\")\n",
    "data = data.drop([\"Player1\",\"Player2\", \"FSP.2\", \"FSW.2\", \"SSP.2\", \"SSW.2\", \"ACE.2\",\"DBF.2\", \"WNR.2\", \"UFE.2\",\"BPC.2\",\"BPW.2\",\n",
    "                  \"TPW.2\" , \"FNL1\", \"FNL2\",\"NPA.1\",\"NPW.1\",\"ST1.1\",\"ST2.1\",\"ST3.1\",\"ST4.1\",\"ST5.1\",\"NPA.2\",\"NPW.2\",\"ST1.2\",\n",
    "                  \"ST2.2\",\"ST3.2\",\"ST4.2\",\"ST5.2\"], axis=1)\n",
    "data.rename(columns={\"FSP.1\":\"FSP\" , \"FSW.1\" : \"FSW\" , \"SSP.1\" : \"SSP\" , \"SSW.1\" : \"SSW\",\"ACE.1\" : \"ACE\", \"DBF.1\" : \"DBF\",\n",
    "                     \"WNR.1\":\"WNR\", \"UFE.1\" : \"UFE\", \"BPC.1\" : \"BPC\" , \"BPW.1\" : \"BPW\",\"TPW.1\" : \"TPW\" }, inplace=True)\n",
    "data.head(10)"
   ]
  },
  {
   "cell_type": "markdown",
   "metadata": {},
   "source": [
    "Our hypothesis is that the statistics and the result is correlated.\n",
    "To do that, we will use ρ to denote our correlation coefficient.\n",
    "\n",
    "Our null hypothesis is: H0: ρ = 0 (The correlation being zero)\n",
    "Our alternative hypothesis is H1: ρ != 0 (The correlation being nonzero)\n",
    "\n",
    "To test our hypothesis,  we will use r to estimate ρ:\n",
    "\n",
    "r = Sxy / (Sxx)*(Syy)\n",
    "\n",
    "Covariance of x and y: Sxy = Σxy - 1/n(Σx)(Σy)\n",
    "Variance of x: Sxx = Σ(x^2) - 1/n(Σx)^2\n",
    "Variance of y: Syy = Σ(y^2) - 1/n(Σy)^2\n",
    "\n",
    "n: sample size\n",
    "\n",
    "We will use 0.05 significance level.\n",
    "Since our population is large enough, we can use Z distribution.\n",
    "\n",
    "Z = sqrt(n-3)/2  *  ln((1+r)(1-ρ)/(1-r)(1+ρ)) is normally distributed.\n",
    "\n",
    "We will reject H0 if Z >= Z(α/2) or if Z <= -Z(α/2)\n",
    "\n",
    "Since our significance level is α=0.05, our corresponding Z(α/2)=1.96"
   ]
  },
  {
   "cell_type": "markdown",
   "metadata": {},
   "source": [
    "To find Σx and Σy, ve should sum the columns of our data"
   ]
  },
  {
   "cell_type": "code",
   "execution_count": 3,
   "metadata": {
    "collapsed": false,
    "scrolled": true
   },
   "outputs": [
    {
     "data": {
      "text/plain": [
       "Round       488.0\n",
       "Result      126.0\n",
       "FSP       15469.0\n",
       "FSW       12341.0\n",
       "SSP        9731.0\n",
       "SSW        5458.0\n",
       "ACE        2458.0\n",
       "DBF        1119.0\n",
       "WNR        8311.0\n",
       "UFE        8357.0\n",
       "BPC         909.0\n",
       "BPW        2280.0\n",
       "TPW       28001.0\n",
       "dtype: float64"
      ]
     },
     "execution_count": 3,
     "metadata": {},
     "output_type": "execute_result"
    }
   ],
   "source": [
    "import numpy as py\n",
    "py.sum(data,axis=0)"
   ]
  },
  {
   "cell_type": "markdown",
   "metadata": {},
   "source": [
    "To find  Σ(x^2) and  Σ(y^2) we should take the squares for each value and then sum them."
   ]
  },
  {
   "cell_type": "code",
   "execution_count": 4,
   "metadata": {
    "collapsed": false
   },
   "outputs": [
    {
     "data": {
      "text/html": [
       "<div>\n",
       "<table border=\"1\" class=\"dataframe\">\n",
       "  <thead>\n",
       "    <tr style=\"text-align: right;\">\n",
       "      <th></th>\n",
       "      <th>Round</th>\n",
       "      <th>Result</th>\n",
       "      <th>FSP</th>\n",
       "      <th>FSW</th>\n",
       "      <th>SSP</th>\n",
       "      <th>SSW</th>\n",
       "      <th>ACE</th>\n",
       "      <th>DBF</th>\n",
       "      <th>WNR</th>\n",
       "      <th>UFE</th>\n",
       "      <th>BPC</th>\n",
       "      <th>BPW</th>\n",
       "      <th>TPW</th>\n",
       "    </tr>\n",
       "  </thead>\n",
       "  <tbody>\n",
       "    <tr>\n",
       "      <th>0</th>\n",
       "      <td>1.0</td>\n",
       "      <td>0.0</td>\n",
       "      <td>3721.0</td>\n",
       "      <td>1225.0</td>\n",
       "      <td>1521.0</td>\n",
       "      <td>324.0</td>\n",
       "      <td>25.0</td>\n",
       "      <td>1.0</td>\n",
       "      <td>289.0</td>\n",
       "      <td>841.0</td>\n",
       "      <td>1.0</td>\n",
       "      <td>9.0</td>\n",
       "      <td>4900.0</td>\n",
       "    </tr>\n",
       "    <tr>\n",
       "      <th>1</th>\n",
       "      <td>1.0</td>\n",
       "      <td>1.0</td>\n",
       "      <td>3721.0</td>\n",
       "      <td>961.0</td>\n",
       "      <td>1521.0</td>\n",
       "      <td>169.0</td>\n",
       "      <td>169.0</td>\n",
       "      <td>1.0</td>\n",
       "      <td>169.0</td>\n",
       "      <td>1.0</td>\n",
       "      <td>49.0</td>\n",
       "      <td>196.0</td>\n",
       "      <td>6400.0</td>\n",
       "    </tr>\n",
       "    <tr>\n",
       "      <th>2</th>\n",
       "      <td>1.0</td>\n",
       "      <td>0.0</td>\n",
       "      <td>2704.0</td>\n",
       "      <td>2809.0</td>\n",
       "      <td>2304.0</td>\n",
       "      <td>400.0</td>\n",
       "      <td>64.0</td>\n",
       "      <td>16.0</td>\n",
       "      <td>1369.0</td>\n",
       "      <td>2500.0</td>\n",
       "      <td>1.0</td>\n",
       "      <td>81.0</td>\n",
       "      <td>11236.0</td>\n",
       "    </tr>\n",
       "    <tr>\n",
       "      <th>3</th>\n",
       "      <td>1.0</td>\n",
       "      <td>1.0</td>\n",
       "      <td>2809.0</td>\n",
       "      <td>1521.0</td>\n",
       "      <td>2209.0</td>\n",
       "      <td>576.0</td>\n",
       "      <td>64.0</td>\n",
       "      <td>36.0</td>\n",
       "      <td>64.0</td>\n",
       "      <td>36.0</td>\n",
       "      <td>36.0</td>\n",
       "      <td>81.0</td>\n",
       "      <td>10816.0</td>\n",
       "    </tr>\n",
       "    <tr>\n",
       "      <th>4</th>\n",
       "      <td>1.0</td>\n",
       "      <td>0.0</td>\n",
       "      <td>5776.0</td>\n",
       "      <td>3969.0</td>\n",
       "      <td>576.0</td>\n",
       "      <td>144.0</td>\n",
       "      <td>0.0</td>\n",
       "      <td>16.0</td>\n",
       "      <td>256.0</td>\n",
       "      <td>1225.0</td>\n",
       "      <td>9.0</td>\n",
       "      <td>144.0</td>\n",
       "      <td>16384.0</td>\n",
       "    </tr>\n",
       "  </tbody>\n",
       "</table>\n",
       "</div>"
      ],
      "text/plain": [
       "   Round  Result     FSP     FSW     SSP    SSW    ACE   DBF     WNR     UFE  \\\n",
       "0    1.0     0.0  3721.0  1225.0  1521.0  324.0   25.0   1.0   289.0   841.0   \n",
       "1    1.0     1.0  3721.0   961.0  1521.0  169.0  169.0   1.0   169.0     1.0   \n",
       "2    1.0     0.0  2704.0  2809.0  2304.0  400.0   64.0  16.0  1369.0  2500.0   \n",
       "3    1.0     1.0  2809.0  1521.0  2209.0  576.0   64.0  36.0    64.0    36.0   \n",
       "4    1.0     0.0  5776.0  3969.0   576.0  144.0    0.0  16.0   256.0  1225.0   \n",
       "\n",
       "    BPC    BPW      TPW  \n",
       "0   1.0    9.0   4900.0  \n",
       "1  49.0  196.0   6400.0  \n",
       "2   1.0   81.0  11236.0  \n",
       "3  36.0   81.0  10816.0  \n",
       "4   9.0  144.0  16384.0  "
      ]
     },
     "execution_count": 4,
     "metadata": {},
     "output_type": "execute_result"
    }
   ],
   "source": [
    "data2 = py.square(data)\n",
    "data2.head()"
   ]
  },
  {
   "cell_type": "code",
   "execution_count": 5,
   "metadata": {
    "collapsed": false,
    "scrolled": true
   },
   "outputs": [
    {
     "data": {
      "text/plain": [
       "Round        1352.0\n",
       "Result        126.0\n",
       "FSP        962809.0\n",
       "FSW        666565.0\n",
       "SSP        389009.0\n",
       "SSW        136598.0\n",
       "ACE         36040.0\n",
       "DBF          7749.0\n",
       "WNR        358261.0\n",
       "UFE        377955.0\n",
       "BPC          4779.0\n",
       "BPW         28626.0\n",
       "TPW       3405731.0\n",
       "dtype: float64"
      ]
     },
     "execution_count": 5,
     "metadata": {},
     "output_type": "execute_result"
    }
   ],
   "source": [
    "py.sum(data2,axis = 0)"
   ]
  },
  {
   "cell_type": "code",
   "execution_count": 6,
   "metadata": {
    "collapsed": false
   },
   "outputs": [
    {
     "data": {
      "text/plain": [
       "(252, 13)"
      ]
     },
     "execution_count": 6,
     "metadata": {},
     "output_type": "execute_result"
    }
   ],
   "source": [
    "py.shape(data)"
   ]
  },
  {
   "cell_type": "markdown",
   "metadata": {},
   "source": [
    "This means that we have 252 samples"
   ]
  },
  {
   "cell_type": "markdown",
   "metadata": {},
   "source": [
    "##  Our hypothesis "
   ]
  },
  {
   "cell_type": "markdown",
   "metadata": {},
   "source": [
    "Our hypothesis is that Break Points Created and Result is correlated and we will prove this by the uppermentioned method.\n",
    "For this purpose, our x is Break Points Created, and our y is Result.\n",
    "\n",
    "H0: They are not correlated: ρ = 0\n",
    "H1: They are correlated: ρ != 0"
   ]
  },
  {
   "cell_type": "markdown",
   "metadata": {},
   "source": [
    "First we should estimate ρ with r(using the formula). To use the formula, we have to find Sxx, Sxy, Syy. "
   ]
  },
  {
   "cell_type": "code",
   "execution_count": 7,
   "metadata": {
    "collapsed": false
   },
   "outputs": [
    {
     "ename": "NameError",
     "evalue": "name 'Sxy' is not defined",
     "output_type": "error",
     "traceback": [
      "\u001b[0;31m---------------------------------------------------------------------------\u001b[0m",
      "\u001b[0;31mNameError\u001b[0m                                 Traceback (most recent call last)",
      "\u001b[0;32m<ipython-input-7-4728180fd2f7>\u001b[0m in \u001b[0;36m<module>\u001b[0;34m()\u001b[0m\n\u001b[1;32m      1\u001b[0m \u001b[0mSxx\u001b[0m \u001b[1;33m=\u001b[0m \u001b[1;36m4779\u001b[0m \u001b[1;33m-\u001b[0m \u001b[1;33m(\u001b[0m\u001b[1;36m1\u001b[0m\u001b[1;33m/\u001b[0m\u001b[1;36m252\u001b[0m\u001b[1;33m)\u001b[0m\u001b[1;33m*\u001b[0m\u001b[1;33m(\u001b[0m\u001b[1;36m909\u001b[0m\u001b[1;33m)\u001b[0m\u001b[1;33m*\u001b[0m\u001b[1;33m(\u001b[0m\u001b[1;36m909\u001b[0m\u001b[1;33m)\u001b[0m\u001b[1;33m\u001b[0m\u001b[0m\n\u001b[1;32m      2\u001b[0m \u001b[0mSyy\u001b[0m \u001b[1;33m=\u001b[0m \u001b[1;36m126\u001b[0m \u001b[1;33m-\u001b[0m \u001b[1;33m(\u001b[0m\u001b[1;36m1\u001b[0m\u001b[1;33m/\u001b[0m\u001b[1;36m252\u001b[0m\u001b[1;33m)\u001b[0m\u001b[1;33m*\u001b[0m\u001b[1;33m(\u001b[0m\u001b[1;36m126\u001b[0m\u001b[1;33m)\u001b[0m\u001b[1;33m*\u001b[0m\u001b[1;33m(\u001b[0m\u001b[1;36m126\u001b[0m\u001b[1;33m)\u001b[0m\u001b[1;33m\u001b[0m\u001b[0m\n\u001b[0;32m----> 3\u001b[0;31m \u001b[0mprint\u001b[0m\u001b[1;33m(\u001b[0m\u001b[1;34m\"Sxx: \"\u001b[0m\u001b[1;33m,\u001b[0m \u001b[0mSxx\u001b[0m\u001b[1;33m,\u001b[0m \u001b[1;34m\"    Sxy: \"\u001b[0m\u001b[1;33m,\u001b[0m \u001b[0mSxy\u001b[0m\u001b[1;33m)\u001b[0m\u001b[1;33m\u001b[0m\u001b[0m\n\u001b[0m",
      "\u001b[0;31mNameError\u001b[0m: name 'Sxy' is not defined"
     ]
    }
   ],
   "source": [
    "Sxx = 4779 - (1/252)*(909)*(909)\n",
    "Syy = 126 - (1/252)*(126)*(126)\n",
    "print(\"Sxx: \", Sxx, \"    Sxy: \", Sxy)"
   ]
  },
  {
   "cell_type": "markdown",
   "metadata": {},
   "source": [
    "To find Sxy, we should multiply the Result and Break Points Created columns to use the formula"
   ]
  },
  {
   "cell_type": "code",
   "execution_count": 9,
   "metadata": {
    "collapsed": false
   },
   "outputs": [],
   "source": [
    "myarray = []\n",
    "for i in range (0,251):\n",
    "    x = data.values[i][1]*data.values[i][10]\n",
    "    myarray.append(x)"
   ]
  },
  {
   "cell_type": "code",
   "execution_count": 10,
   "metadata": {
    "collapsed": false
   },
   "outputs": [
    {
     "name": "stdout",
     "output_type": "stream",
     "text": [
      "[0.0, 7.0, 0.0, 6.0, 0.0, 0.0, 0.0, 6.0, 0.0, 7.0, 0.0, 6.0, 0.0, 0.0, 10.0, 4.0, 0.0, 0.0, 0.0, 4.0, 0.0, 0.0, 5.0, 7.0, 4.0, 0.0, 5.0, 3.0, 0.0, 0.0, 0.0, 4.0, 0.0, 0.0, 9.0, 5.0, 0.0, 5.0, 4.0, 5.0, 2.0, 4.0, 5.0, 9.0, 0.0, 5.0, 11.0, 7.0, 0.0, 8.0, 6.0, 3.0, 0.0, 0.0, 0.0, 7.0, 0.0, 5.0, 0.0, 7.0, 0.0, 0.0, 3.0, 1.0, 0.0, 0.0, 5.0, 5.0, 0.0, 4.0, 0.0, 6.0, 0.0, 5.0, 0.0, 0.0, 7.0, 3.0, 0.0, 5.0, 0.0, 0.0, 0.0, 3.0, 0.0, 6.0, 0.0, 8.0, 5.0, 7.0, 0.0, 2.0, 0.0, 0.0, 0.0, 5.0, 0.0, 4.0, 3.0, 0.0, 5.0, 3.0, 5.0, 0.0, 3.0, 4.0, 4.0, 0.0, 0.0, 0.0, 6.0, 0.0, 2.0, 0.0, 5.0, 0.0, 7.0, 4.0, 5.0, 5.0, 5.0, 0.0, 4.0, 0.0, 4.0, 0.0, 4.0, 0.0, 4.0, 0.0, 3.0, 4.0, 10.0, 0.0, 7.0, 0.0, 7.0, 0.0, 4.0, 6.0, 0.0, 0.0, 8.0, 7.0, 5.0, 0.0, 5.0, 7.0, 0.0, 0.0, 0.0, 7.0, 0.0, 0.0, 2.0, 7.0, 4.0, 0.0, 4.0, 6.0, 0.0, 0.0, 4.0, 0.0, 0.0, 0.0, 0.0, 0.0, 0.0, 0.0, 4.0, 0.0, 0.0, 0.0, 4.0, 0.0, 0.0, 0.0, 4.0, 9.0, 2.0, 0.0, 7.0, 0.0, 2.0, 0.0, 3.0, 4.0, 0.0, 0.0, 5.0, 5.0, 0.0, 0.0, 6.0, 0.0, 4.0, 0.0, 9.0, 0.0, 3.0, 4.0, 0.0, 0.0, 3.0, 0.0, 6.0, 5.0, 10.0, 0.0, 5.0, 0.0, 4.0, 0.0, 0.0, 0.0, 5.0, 0.0, 6.0, 6.0, 4.0, 0.0, 5.0, 0.0, 0.0, 5.0, 0.0, 0.0, 0.0, 5.0, 0.0, 0.0, 0.0, 7.0, 2.0, 8.0, 0.0, 6.0, 0.0, 9.0, 0.0, 3.0, 0.0, 0.0, 0.0, 0.0, 0.0, 4.0, 0.0, 1.0, 0.0]\n"
     ]
    }
   ],
   "source": [
    "print(myarray)"
   ]
  },
  {
   "cell_type": "code",
   "execution_count": 11,
   "metadata": {
    "collapsed": false
   },
   "outputs": [
    {
     "data": {
      "text/plain": [
       "642.0"
      ]
     },
     "execution_count": 11,
     "metadata": {},
     "output_type": "execute_result"
    }
   ],
   "source": [
    "py.sum(myarray)"
   ]
  },
  {
   "cell_type": "code",
   "execution_count": 12,
   "metadata": {
    "collapsed": false
   },
   "outputs": [
    {
     "name": "stdout",
     "output_type": "stream",
     "text": [
      "Sxy:  187.50000000000006\n"
     ]
    }
   ],
   "source": [
    "Sxy = 642 - (1/252)* (909) * (126)\n",
    "print(\"Sxy: \", Sxy)"
   ]
  },
  {
   "cell_type": "markdown",
   "metadata": {},
   "source": [
    "Now we can estimate ρ, and our estimate is denoted by r."
   ]
  },
  {
   "cell_type": "code",
   "execution_count": 13,
   "metadata": {
    "collapsed": false
   },
   "outputs": [],
   "source": [
    "r = Sxy / ((Sxx* Syy)**(1/2))"
   ]
  },
  {
   "cell_type": "code",
   "execution_count": 14,
   "metadata": {
    "collapsed": false
   },
   "outputs": [
    {
     "name": "stdout",
     "output_type": "stream",
     "text": [
      "r:  0.6099157632759651\n"
     ]
    }
   ],
   "source": [
    "print(\"r: \",r)"
   ]
  },
  {
   "cell_type": "markdown",
   "metadata": {},
   "source": [
    "Our Zobservations is:"
   ]
  },
  {
   "cell_type": "code",
   "execution_count": 53,
   "metadata": {
    "collapsed": false
   },
   "outputs": [
    {
     "name": "stdout",
     "output_type": "stream",
     "text": [
      "Zobservations:  11.1844735868\n"
     ]
    }
   ],
   "source": [
    "Zhat = (((252-3)**(1/2))/2) * py.log((1+r)/(1-r))\n",
    "print(\"Zobservations: \", Zhat)"
   ]
  },
  {
   "cell_type": "markdown",
   "metadata": {},
   "source": [
    "#### Since our Zobservations are greater then Z(α/2) (which was 1.96), we can say that Result and Break Points Created are correlated with %95 confidence"
   ]
  },
  {
   "cell_type": "markdown",
   "metadata": {},
   "source": [
    "Let's also do one with unforced errors.\n",
    "\n",
    "H0: They are not correlated: ρ = 0 H1: They are correlated: ρ != 0"
   ]
  },
  {
   "cell_type": "code",
   "execution_count": 55,
   "metadata": {
    "collapsed": false
   },
   "outputs": [
    {
     "name": "stdout",
     "output_type": "stream",
     "text": [
      "Sxx:  100814.32936507935     Sxy:  187.50000000000006\n",
      "Sxy:  -463.5\n"
     ]
    }
   ],
   "source": [
    "Sxx = 377955 - (1/252)*(8357)*(8357)\n",
    "Syy = 126 - (1/252)*(126)*(126)\n",
    "print(\"Sxx: \", Sxx, \"    Sxy: \", Sxy)\n",
    "\n",
    "myarray = []\n",
    "for i in range (0,251):\n",
    "    x = data.values[i][1]*data.values[i][9]\n",
    "    myarray.append(x)\n",
    "summ=py.sum(myarray)\n",
    "Sxy = summ - (1/252)* (8357) * (126)\n",
    "print(\"Sxy: \", Sxy)"
   ]
  },
  {
   "cell_type": "code",
   "execution_count": 56,
   "metadata": {
    "collapsed": false
   },
   "outputs": [
    {
     "name": "stdout",
     "output_type": "stream",
     "text": [
      "r:  -0.18391549951\n"
     ]
    }
   ],
   "source": [
    "r = Sxy / ((Sxx* Syy)**(1/2))\n",
    "print(\"r: \",r)"
   ]
  },
  {
   "cell_type": "code",
   "execution_count": 57,
   "metadata": {
    "collapsed": false
   },
   "outputs": [
    {
     "name": "stdout",
     "output_type": "stream",
     "text": [
      "Zobservations:  -2.93553970681\n"
     ]
    }
   ],
   "source": [
    "Zhat = (((252-3)**(1/2))/2) * py.log((1+r)/(1-r))\n",
    "print(\"Zobservations: \", Zhat)"
   ]
  },
  {
   "cell_type": "markdown",
   "metadata": {},
   "source": [
    "#### Since our Zobservations are smaller then -Z(α/2) (which was -1.96), we can say that Result and Unforced Errors are correlated with %95 confidence"
   ]
  }
 ],
 "metadata": {
  "kernelspec": {
   "display_name": "Python 3",
   "language": "python",
   "name": "python3"
  },
  "language_info": {
   "codemirror_mode": {
    "name": "ipython",
    "version": 3
   },
   "file_extension": ".py",
   "mimetype": "text/x-python",
   "name": "python",
   "nbconvert_exporter": "python",
   "pygments_lexer": "ipython3",
   "version": "3.6.0"
  }
 },
 "nbformat": 4,
 "nbformat_minor": 2
}
