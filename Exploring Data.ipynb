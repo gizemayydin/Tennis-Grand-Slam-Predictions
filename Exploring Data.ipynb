{
 "cells": [
  {
   "cell_type": "markdown",
   "metadata": {},
   "source": [
    "#  Exploring the Data\n"
   ]
  },
  {
   "cell_type": "markdown",
   "metadata": {},
   "source": [
    "First we will open our data, and investigate the effects of the game statistics to the result by plotting some histograms and scatterplots."
   ]
  },
  {
   "cell_type": "markdown",
   "metadata": {},
   "source": [
    "In our data, we will use the following statistics:\n",
    "    * Player -> the name of the player\n",
    "    * Round -> The round which the match was played in the tournament\n",
    "    * Result-> 1 indicates the player had won, 0 indicates the player had lost.\n",
    "    * FSP -> First serve percentage of the player\n",
    "    * FSW -> The percentage of the first serve points won\n",
    "    * SSP -> Second serve percentage\n",
    "    * SSW -> The percentage of the second serve points won\n",
    "    * ACE -> The number of aces of the player\n",
    "    * DBF -> Number of double faults of the player\n",
    "    * WNR -> Number of winners of the player\n",
    "    * UFE -> Unforced errors of the player\n",
    "    * BPC -> Break Points Created by the Player\n",
    "    * BPW -> Break points won by the player\n",
    "    \n",
    "Below are the first ten entries of our data."
   ]
  },
  {
   "cell_type": "code",
   "execution_count": 1,
   "metadata": {
    "collapsed": false
   },
   "outputs": [
    {
     "data": {
      "text/html": [
       "<div>\n",
       "<table border=\"1\" class=\"dataframe\">\n",
       "  <thead>\n",
       "    <tr style=\"text-align: right;\">\n",
       "      <th></th>\n",
       "      <th>Player</th>\n",
       "      <th>Round</th>\n",
       "      <th>Result</th>\n",
       "      <th>FSP</th>\n",
       "      <th>FSW</th>\n",
       "      <th>SSP</th>\n",
       "      <th>SSW</th>\n",
       "      <th>ACE</th>\n",
       "      <th>DBF</th>\n",
       "      <th>WNR</th>\n",
       "      <th>UFE</th>\n",
       "      <th>BPC</th>\n",
       "      <th>BPW</th>\n",
       "    </tr>\n",
       "  </thead>\n",
       "  <tbody>\n",
       "    <tr>\n",
       "      <th>0</th>\n",
       "      <td>Lukas Lacko</td>\n",
       "      <td>1</td>\n",
       "      <td>0</td>\n",
       "      <td>61</td>\n",
       "      <td>35</td>\n",
       "      <td>39</td>\n",
       "      <td>18</td>\n",
       "      <td>5</td>\n",
       "      <td>1.0</td>\n",
       "      <td>17</td>\n",
       "      <td>29</td>\n",
       "      <td>1</td>\n",
       "      <td>3</td>\n",
       "    </tr>\n",
       "    <tr>\n",
       "      <th>1</th>\n",
       "      <td>Leonardo Mayer</td>\n",
       "      <td>1</td>\n",
       "      <td>1</td>\n",
       "      <td>61</td>\n",
       "      <td>31</td>\n",
       "      <td>39</td>\n",
       "      <td>13</td>\n",
       "      <td>13</td>\n",
       "      <td>1.0</td>\n",
       "      <td>13</td>\n",
       "      <td>1</td>\n",
       "      <td>7</td>\n",
       "      <td>14</td>\n",
       "    </tr>\n",
       "    <tr>\n",
       "      <th>2</th>\n",
       "      <td>Marcos Baghdatis</td>\n",
       "      <td>1</td>\n",
       "      <td>0</td>\n",
       "      <td>52</td>\n",
       "      <td>53</td>\n",
       "      <td>48</td>\n",
       "      <td>20</td>\n",
       "      <td>8</td>\n",
       "      <td>4.0</td>\n",
       "      <td>37</td>\n",
       "      <td>50</td>\n",
       "      <td>1</td>\n",
       "      <td>9</td>\n",
       "    </tr>\n",
       "    <tr>\n",
       "      <th>3</th>\n",
       "      <td>Dmitry Tursunov</td>\n",
       "      <td>1</td>\n",
       "      <td>1</td>\n",
       "      <td>53</td>\n",
       "      <td>39</td>\n",
       "      <td>47</td>\n",
       "      <td>24</td>\n",
       "      <td>8</td>\n",
       "      <td>6.0</td>\n",
       "      <td>8</td>\n",
       "      <td>6</td>\n",
       "      <td>6</td>\n",
       "      <td>9</td>\n",
       "    </tr>\n",
       "    <tr>\n",
       "      <th>4</th>\n",
       "      <td>Juan Monaco</td>\n",
       "      <td>1</td>\n",
       "      <td>0</td>\n",
       "      <td>76</td>\n",
       "      <td>63</td>\n",
       "      <td>24</td>\n",
       "      <td>12</td>\n",
       "      <td>0</td>\n",
       "      <td>4.0</td>\n",
       "      <td>16</td>\n",
       "      <td>35</td>\n",
       "      <td>3</td>\n",
       "      <td>12</td>\n",
       "    </tr>\n",
       "    <tr>\n",
       "      <th>5</th>\n",
       "      <td>Santiago Giraldo</td>\n",
       "      <td>1</td>\n",
       "      <td>0</td>\n",
       "      <td>65</td>\n",
       "      <td>51</td>\n",
       "      <td>35</td>\n",
       "      <td>22</td>\n",
       "      <td>9</td>\n",
       "      <td>3.0</td>\n",
       "      <td>35</td>\n",
       "      <td>41</td>\n",
       "      <td>2</td>\n",
       "      <td>7</td>\n",
       "    </tr>\n",
       "    <tr>\n",
       "      <th>6</th>\n",
       "      <td>Dudi Sela</td>\n",
       "      <td>1</td>\n",
       "      <td>0</td>\n",
       "      <td>68</td>\n",
       "      <td>73</td>\n",
       "      <td>32</td>\n",
       "      <td>24</td>\n",
       "      <td>5</td>\n",
       "      <td>3.0</td>\n",
       "      <td>41</td>\n",
       "      <td>50</td>\n",
       "      <td>9</td>\n",
       "      <td>17</td>\n",
       "    </tr>\n",
       "    <tr>\n",
       "      <th>7</th>\n",
       "      <td>Fabio Fognini</td>\n",
       "      <td>1</td>\n",
       "      <td>1</td>\n",
       "      <td>47</td>\n",
       "      <td>18</td>\n",
       "      <td>53</td>\n",
       "      <td>15</td>\n",
       "      <td>3</td>\n",
       "      <td>4.0</td>\n",
       "      <td>21</td>\n",
       "      <td>31</td>\n",
       "      <td>6</td>\n",
       "      <td>20</td>\n",
       "    </tr>\n",
       "    <tr>\n",
       "      <th>8</th>\n",
       "      <td>David Guez</td>\n",
       "      <td>1</td>\n",
       "      <td>0</td>\n",
       "      <td>64</td>\n",
       "      <td>26</td>\n",
       "      <td>36</td>\n",
       "      <td>12</td>\n",
       "      <td>3</td>\n",
       "      <td>NaN</td>\n",
       "      <td>20</td>\n",
       "      <td>39</td>\n",
       "      <td>3</td>\n",
       "      <td>7</td>\n",
       "    </tr>\n",
       "    <tr>\n",
       "      <th>9</th>\n",
       "      <td>Nikolay Davydenko</td>\n",
       "      <td>1</td>\n",
       "      <td>1</td>\n",
       "      <td>77</td>\n",
       "      <td>76</td>\n",
       "      <td>23</td>\n",
       "      <td>11</td>\n",
       "      <td>6</td>\n",
       "      <td>4.0</td>\n",
       "      <td>6</td>\n",
       "      <td>4</td>\n",
       "      <td>7</td>\n",
       "      <td>24</td>\n",
       "    </tr>\n",
       "  </tbody>\n",
       "</table>\n",
       "</div>"
      ],
      "text/plain": [
       "              Player  Round  Result  FSP  FSW  SSP  SSW  ACE  DBF  WNR  UFE  \\\n",
       "0        Lukas Lacko      1       0   61   35   39   18    5  1.0   17   29   \n",
       "1     Leonardo Mayer      1       1   61   31   39   13   13  1.0   13    1   \n",
       "2   Marcos Baghdatis      1       0   52   53   48   20    8  4.0   37   50   \n",
       "3    Dmitry Tursunov      1       1   53   39   47   24    8  6.0    8    6   \n",
       "4        Juan Monaco      1       0   76   63   24   12    0  4.0   16   35   \n",
       "5   Santiago Giraldo      1       0   65   51   35   22    9  3.0   35   41   \n",
       "6          Dudi Sela      1       0   68   73   32   24    5  3.0   41   50   \n",
       "7      Fabio Fognini      1       1   47   18   53   15    3  4.0   21   31   \n",
       "8         David Guez      1       0   64   26   36   12    3  NaN   20   39   \n",
       "9  Nikolay Davydenko      1       1   77   76   23   11    6  4.0    6    4   \n",
       "\n",
       "   BPC  BPW  \n",
       "0    1    3  \n",
       "1    7   14  \n",
       "2    1    9  \n",
       "3    6    9  \n",
       "4    3   12  \n",
       "5    2    7  \n",
       "6    9   17  \n",
       "7    6   20  \n",
       "8    3    7  \n",
       "9    7   24  "
      ]
     },
     "execution_count": 1,
     "metadata": {},
     "output_type": "execute_result"
    }
   ],
   "source": [
    "import pandas as pd\n",
    "data = pd.read_csv(\"deneme.csv\")\n",
    "data = data.drop([\"TPW.1\",\"Player2\", \"FSP.2\", \"FSW.2\", \"SSP.2\", \"SSW.2\", \"ACE.2\",\"DBF.2\", \"WNR.2\", \"UFE.2\",\"BPC.2\",\"BPW.2\",\"TPW.2\",\"FNL1\", \"FNL2\",\"NPA.1\",\"NPW.1\",\"ST1.1\",\"ST2.1\",\"ST3.1\",\"ST4.1\",\"ST5.1\",\"NPA.2\",\"NPW.2\",\"ST1.2\",\"ST2.2\",\"ST3.2\",\"ST4.2\",\"ST5.2\"], axis=1)\n",
    "data.rename(columns={\"Player1\":\"Player\", \"FSP.1\":\"FSP\" , \"FSW.1\" : \"FSW\" , \"SSP.1\" : \"SSP\" , \"SSW.1\" : \"SSW\",\"ACE.1\" : \"ACE\", \"DBF.1\" : \"DBF\", \"WNR.1\":\"WNR\", \"UFE.1\" : \"UFE\", \"BPC.1\" : \"BPC\" , \"BPW.1\" : \"BPW\"}, inplace=True)\n",
    "data.head(10)"
   ]
  },
  {
   "cell_type": "markdown",
   "metadata": {},
   "source": [
    "To get a perspective, we calculated the mean of each statistic for two situations, whether the player had won or had lost."
   ]
  },
  {
   "cell_type": "code",
   "execution_count": 2,
   "metadata": {
    "collapsed": false
   },
   "outputs": [
    {
     "name": "stdout",
     "output_type": "stream",
     "text": [
      "FSP:  62.23015873015873 60.53968253968254\n",
      "FSW:  51.03174603174603 46.91269841269841\n",
      "SSP:  37.76984126984127 39.46031746031746\n",
      "SSW:  22.6984126984127 20.61904761904762\n",
      "ACE:  11.071428571428571 8.436507936507937\n",
      "DBF:  4.144 4.808\n",
      "WNR:  36.523809523809526 29.436507936507937\n",
      "UFE:  29.873015873015873 36.45238095238095\n",
      "BPC:  5.134920634920635 2.0793650793650795\n",
      "BPW:  11.833333333333334 6.261904761904762\n"
     ]
    }
   ],
   "source": [
    "Won_FSP_Mean = data[data.Result==1].FSP.mean()\n",
    "Lost_FSP_Mean = data[data.Result==0].FSP.mean()\n",
    "\n",
    "Won_FSW_Mean = data[data.Result==1].FSW.mean()\n",
    "Lost_FSW_Mean = data[data.Result==0].FSW.mean()\n",
    "\n",
    "Won_SSP_Mean = data[data.Result==1].SSP.mean()\n",
    "Lost_SSP_Mean = data[data.Result==0].SSP.mean()\n",
    "\n",
    "Won_SSW_Mean = data[data.Result==1].SSW.mean()\n",
    "Lost_SSW_Mean = data[data.Result==0].SSW.mean()\n",
    "\n",
    "Won_ACE_Mean = data[data.Result==1].ACE.mean()\n",
    "Lost_ACE_Mean = data[data.Result==0].ACE.mean()\n",
    "\n",
    "Won_DBF_Mean = data[data.Result==1].DBF.mean()\n",
    "Lost_DBF_Mean = data[data.Result==0].DBF.mean()\n",
    "\n",
    "Won_WNR_Mean = data[data.Result==1].WNR.mean()\n",
    "Lost_WNR_Mean = data[data.Result==0].WNR.mean()\n",
    "\n",
    "Won_UFE_Mean = data[data.Result==1].UFE.mean()\n",
    "Lost_UFE_Mean = data[data.Result==0].UFE.mean()\n",
    "\n",
    "Won_BPC_Mean = data[data.Result==1].BPC.mean()\n",
    "Lost_BPC_Mean = data[data.Result==0].BPC.mean()\n",
    "\n",
    "Won_BPW_Mean = data[data.Result==1].BPW.mean()\n",
    "Lost_BPW_Mean = data[data.Result==0].BPW.mean()\n",
    "\n",
    "print(\"FSP: \", Won_FSP_Mean , Lost_FSP_Mean)\n",
    "print(\"FSW: \", Won_FSW_Mean ,Lost_FSW_Mean)\n",
    "print(\"SSP: \",Won_SSP_Mean ,Lost_SSP_Mean)\n",
    "print(\"SSW: \",Won_SSW_Mean ,Lost_SSW_Mean)\n",
    "print(\"ACE: \",Won_ACE_Mean ,Lost_ACE_Mean)\n",
    "print(\"DBF: \",Won_DBF_Mean ,Lost_DBF_Mean)\n",
    "print(\"WNR: \",Won_WNR_Mean ,Lost_WNR_Mean)\n",
    "print(\"UFE: \",Won_UFE_Mean ,Lost_UFE_Mean)\n",
    "print(\"BPC: \",Won_BPC_Mean ,Lost_BPC_Mean)\n",
    "print(\"BPW: \",Won_BPW_Mean ,Lost_BPW_Mean)"
   ]
  },
  {
   "cell_type": "markdown",
   "metadata": {},
   "source": [
    "* The difference between means in for each statistic is different.\n",
    "* The mean of the double faults is nearly the same.\n",
    "* Unforced Errors, Second Serve Percentage and Second Serve Points Won statistics have higher mean for the losers compared to the winners.\n",
    "* Means of First Serve Points Won, Winners, Unforced Errors, Break Points Won and Break Points Created have a significant difference. \n",
    "\n",
    "When we plot the data, we ca focus on these statistics."
   ]
  },
  {
   "cell_type": "markdown",
   "metadata": {},
   "source": [
    "## Histograms"
   ]
  },
  {
   "cell_type": "markdown",
   "metadata": {},
   "source": [
    "Let's draw some histograms"
   ]
  },
  {
   "cell_type": "code",
   "execution_count": 39,
   "metadata": {
    "collapsed": false
   },
   "outputs": [
    {
     "data": {
      "text/plain": [
       "<matplotlib.text.Text at 0x17c4ccc5588>"
      ]
     },
     "execution_count": 39,
     "metadata": {},
     "output_type": "execute_result"
    },
    {
     "data": {
      "image/png": "[encoded data removed]",
      "text/plain": [
       "<matplotlib.figure.Figure at 0x17c4cc11a90>"
      ]
     },
     "metadata": {},
     "output_type": "display_data"
    }
   ],
   "source": [
    "plt.hist(data[data.Result==1].FSW)\n",
    "plt.xlabel('First Serve Points Won(Winner)')\n",
    "plt.ylabel('Count')"
   ]
  },
  {
   "cell_type": "code",
   "execution_count": 40,
   "metadata": {
    "collapsed": false
   },
   "outputs": [
    {
     "data": {
      "text/plain": [
       "<matplotlib.text.Text at 0x17c4cd71a90>"
      ]
     },
     "execution_count": 40,
     "metadata": {},
     "output_type": "execute_result"
    },
    {
     "data": {
      "image/png": "[encoded data removed]",
      "text/plain": [
       "<matplotlib.figure.Figure at 0x17c4cd6a6d8>"
      ]
     },
     "metadata": {},
     "output_type": "display_data"
    }
   ],
   "source": [
    "plt.hist(data[data.Result==0].FSW)\n",
    "plt.xlabel('First Serve Points Won(Loser)')\n",
    "plt.ylabel('Count')"
   ]
  },
  {
   "cell_type": "markdown",
   "metadata": {},
   "source": [
    "It seems to be the winner players had gained slightly more points in their first serve compared to the loser player."
   ]
  },
  {
   "cell_type": "code",
   "execution_count": 41,
   "metadata": {
    "collapsed": false
   },
   "outputs": [
    {
     "data": {
      "text/plain": [
       "<matplotlib.text.Text at 0x17c4ce33e80>"
      ]
     },
     "execution_count": 41,
     "metadata": {},
     "output_type": "execute_result"
    },
    {
     "data": {
      "image/png": "[encoded data removed]",
      "text/plain": [
       "<matplotlib.figure.Figure at 0x17c4cd8c4e0>"
      ]
     },
     "metadata": {},
     "output_type": "display_data"
    }
   ],
   "source": [
    "plt.hist(data[data.Result==1].WNR,bins=20)\n",
    "plt.xlabel('Winners(Winner)')\n",
    "plt.ylabel('Count')"
   ]
  },
  {
   "cell_type": "code",
   "execution_count": 42,
   "metadata": {
    "collapsed": false
   },
   "outputs": [
    {
     "data": {
      "text/plain": [
       "<matplotlib.text.Text at 0x17c4cb8d860>"
      ]
     },
     "execution_count": 42,
     "metadata": {},
     "output_type": "execute_result"
    },
    {
     "data": {
      "image/png": "[encoded data removed]",
      "text/plain": [
       "<matplotlib.figure.Figure at 0x17c4cf0abe0>"
      ]
     },
     "metadata": {},
     "output_type": "display_data"
    }
   ],
   "source": [
    "plt.hist(data[data.Result==0].WNR,bins=20)\n",
    "plt.xlabel('Winners(Loser)')\n",
    "plt.ylabel('Count')"
   ]
  },
  {
   "cell_type": "markdown",
   "metadata": {},
   "source": [
    "The winner has relatively more winners than the loser player."
   ]
  },
  {
   "cell_type": "code",
   "execution_count": 29,
   "metadata": {
    "collapsed": false
   },
   "outputs": [
    {
     "data": {
      "text/plain": [
       "<matplotlib.text.Text at 0x17c4af6a400>"
      ]
     },
     "execution_count": 29,
     "metadata": {},
     "output_type": "execute_result"
    },
    {
     "data": {
      "image/png": "[encoded data removed]",
      "text/plain": [
       "<matplotlib.figure.Figure at 0x17c4adb0160>"
      ]
     },
     "metadata": {},
     "output_type": "display_data"
    }
   ],
   "source": [
    "plt.hist(data[data.Result==1].UFE)\n",
    "plt.xlabel('Unforced Errors(Winner)')\n",
    "plt.ylabel('Count')"
   ]
  },
  {
   "cell_type": "code",
   "execution_count": 30,
   "metadata": {
    "collapsed": false
   },
   "outputs": [
    {
     "data": {
      "text/plain": [
       "<matplotlib.text.Text at 0x17c4c67b400>"
      ]
     },
     "execution_count": 30,
     "metadata": {},
     "output_type": "execute_result"
    },
    {
     "data": {
      "image/png": "[encoded data removed]",
      "text/plain": [
       "<matplotlib.figure.Figure at 0x17c4c5e0a58>"
      ]
     },
     "metadata": {},
     "output_type": "display_data"
    }
   ],
   "source": [
    "plt.hist(data[data.Result==0].UFE)\n",
    "plt.xlabel('Unforced Errors(Loser)')\n",
    "plt.ylabel('Count')"
   ]
  },
  {
   "cell_type": "markdown",
   "metadata": {},
   "source": [
    "The loser player has slightly more unforced errors compared to the winner player."
   ]
  },
  {
   "cell_type": "code",
   "execution_count": 32,
   "metadata": {
    "collapsed": false
   },
   "outputs": [
    {
     "data": {
      "text/plain": [
       "<matplotlib.text.Text at 0x17c4c73b748>"
      ]
     },
     "execution_count": 32,
     "metadata": {},
     "output_type": "execute_result"
    },
    {
     "data": {
      "image/png": "[encoded data removed]",
      "text/plain": [
       "<matplotlib.figure.Figure at 0x17c4c7178d0>"
      ]
     },
     "metadata": {},
     "output_type": "display_data"
    }
   ],
   "source": [
    "plt.hist(data[data.Result==1].BPW)\n",
    "plt.xlabel('Break Points Won(Winner)')\n",
    "plt.ylabel('Count')"
   ]
  },
  {
   "cell_type": "code",
   "execution_count": 33,
   "metadata": {
    "collapsed": false
   },
   "outputs": [
    {
     "data": {
      "text/plain": [
       "<matplotlib.text.Text at 0x17c4c717fd0>"
      ]
     },
     "execution_count": 33,
     "metadata": {},
     "output_type": "execute_result"
    },
    {
     "data": {
      "image/png": "[encoded data removed]",
      "text/plain": [
       "<matplotlib.figure.Figure at 0x17c4c7e83c8>"
      ]
     },
     "metadata": {},
     "output_type": "display_data"
    }
   ],
   "source": [
    "plt.hist(data[data.Result==0].BPW)\n",
    "plt.xlabel('Break Points Won(Loser)')\n",
    "plt.ylabel('Count')"
   ]
  },
  {
   "cell_type": "markdown",
   "metadata": {},
   "source": [
    "The winner players seems to have won more break points"
   ]
  },
  {
   "cell_type": "markdown",
   "metadata": {},
   "source": [
    "## Scatterplots"
   ]
  },
  {
   "cell_type": "markdown",
   "metadata": {},
   "source": [
    "Let's draw some scatterplots."
   ]
  },
  {
   "cell_type": "code",
   "execution_count": 16,
   "metadata": {
    "collapsed": false
   },
   "outputs": [
    {
     "data": {
      "image/png": "[encoded data removed]",
      "text/plain": [
       "<matplotlib.figure.Figure at 0x17c4b025ba8>"
      ]
     },
     "metadata": {},
     "output_type": "display_data"
    }
   ],
   "source": [
    "fig = plt.figure()\n",
    "ax1 = fig.add_subplot(111)\n",
    "\n",
    "ax1.scatter(data[data.Result==1].UFE, data[data.Result==1].WNR, s=10, c='b', marker=\"s\", label='Won')\n",
    "ax1.scatter(data[data.Result==0].UFE, data[data.Result==0].WNR, s=10, c='r', marker=\"o\", label='Lost')\n",
    "ax1.set_xlabel('Unforced error')\n",
    "ax1.set_ylabel('Winners')\n",
    "plt.legend(loc='upper right');\n",
    "plt.show()"
   ]
  },
  {
   "cell_type": "markdown",
   "metadata": {},
   "source": [
    "It can be said that the winner player has more winners and less unforced errors"
   ]
  },
  {
   "cell_type": "code",
   "execution_count": 17,
   "metadata": {
    "collapsed": false
   },
   "outputs": [
    {
     "data": {
      "image/png": "[encoded data removed]",
      "text/plain": [
       "<matplotlib.figure.Figure at 0x17c4b0649e8>"
      ]
     },
     "metadata": {},
     "output_type": "display_data"
    }
   ],
   "source": [
    "fig = plt.figure()\n",
    "ax1 = fig.add_subplot(111)\n",
    "\n",
    "ax1.scatter(data[data.Result==1].BPC, data[data.Result==1].BPW, s=10, c='b', marker=\"s\", label='Won')\n",
    "ax1.scatter(data[data.Result==0].BPC, data[data.Result==0].BPW, s=10, c='r', marker=\"o\", label='Lost')\n",
    "ax1.set_xlabel('Break Points Created')\n",
    "ax1.set_ylabel('Break Points Won')\n",
    "plt.legend(loc='upper right');\n",
    "plt.show()"
   ]
  },
  {
   "cell_type": "markdown",
   "metadata": {},
   "source": [
    "The winners have created and won more break points"
   ]
  },
  {
   "cell_type": "code",
   "execution_count": 18,
   "metadata": {
    "collapsed": false
   },
   "outputs": [
    {
     "data": {
      "image/png": "[encoded data removed]",
      "text/plain": [
       "<matplotlib.figure.Figure at 0x17c4b168dd8>"
      ]
     },
     "metadata": {},
     "output_type": "display_data"
    }
   ],
   "source": [
    "fig = plt.figure()\n",
    "ax1 = fig.add_subplot(111)\n",
    "\n",
    "ax1.scatter(data[data.Result==1].FSP, data[data.Result==1].SSP, s=10, c='b', marker=\"s\", label='Won')\n",
    "ax1.scatter(data[data.Result==0].FSP, data[data.Result==0].SSP, s=10, c='r', marker=\"o\", label='Lost')\n",
    "ax1.set_xlabel('First Serve Percentage')\n",
    "ax1.set_ylabel('Second Serve Percentage')\n",
    "plt.legend(loc='upper right');\n",
    "plt.show()"
   ]
  },
  {
   "cell_type": "markdown",
   "metadata": {},
   "source": [
    "There seems to be a negative correlation between first serve and second serve percentage, this was expected as the player attemps a second serve when his/her first serve is invalid.\n",
    "\n",
    "It can be said (weakly) that the first serve percentage is higher for winner player."
   ]
  }
 ],
 "metadata": {
  "kernelspec": {
   "display_name": "Python 3",
   "language": "python",
   "name": "python3"
  },
  "language_info": {
   "codemirror_mode": {
    "name": "ipython",
    "version": 3
   },
   "file_extension": ".py",
   "mimetype": "text/x-python",
   "name": "python",
   "nbconvert_exporter": "python",
   "pygments_lexer": "ipython3",
   "version": "3.6.0"
  }
 },
 "nbformat": 4,
 "nbformat_minor": 2
}
